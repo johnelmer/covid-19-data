{
 "cells": [
  {
   "cell_type": "markdown",
   "metadata": {},
   "source": [
    "## Import Packages"
   ]
  },
  {
   "cell_type": "code",
   "execution_count": 2,
   "metadata": {},
   "outputs": [],
   "source": [
    "import pandas as pd\n",
    "from googlesearch import search \n",
    "from tqdm import tqdm_notebook as tqdm\n",
    "import random\n",
    "import requests\n",
    "from bs4 import BeautifulSoup\n",
    "from time import sleep\n",
    "from os import listdir\n",
    "from os.path import isfile, join\n",
    "import bs4 as bs\n",
    "import re"
   ]
  },
  {
   "cell_type": "markdown",
   "metadata": {},
   "source": [
    "## Import County Data"
   ]
  },
  {
   "cell_type": "code",
   "execution_count": 3,
   "metadata": {},
   "outputs": [],
   "source": [
    "county_data = pd.read_csv('./us-counties.csv')"
   ]
  },
  {
   "cell_type": "markdown",
   "metadata": {},
   "source": [
    "## Data Manipulation"
   ]
  },
  {
   "cell_type": "code",
   "execution_count": 4,
   "metadata": {},
   "outputs": [],
   "source": [
    "# create a concatenated county state column\n",
    "county_data['county_state'] = county_data['county'] + ' ' + county_data['state']"
   ]
  },
  {
   "cell_type": "code",
   "execution_count": 5,
   "metadata": {},
   "outputs": [],
   "source": [
    "# create a new dataframe containing only unique county state combinations\n",
    "county_state = pd.DataFrame(county_data['county_state'].unique(), columns=['county_state'])"
   ]
  },
  {
   "cell_type": "markdown",
   "metadata": {},
   "source": [
    "## Google Search"
   ]
  },
  {
   "cell_type": "code",
   "execution_count": 10,
   "metadata": {},
   "outputs": [
    {
     "name": "stderr",
     "output_type": "stream",
     "text": [
      "/Library/Frameworks/Python.framework/Versions/3.7/lib/python3.7/site-packages/ipykernel_launcher.py:2: TqdmDeprecationWarning: This function will be removed in tqdm==5.0.0\n",
      "Please use `tqdm.notebook.tqdm` instead of `tqdm.tqdm_notebook`\n",
      "  \n"
     ]
    },
    {
     "data": {
      "application/vnd.jupyter.widget-view+json": {
       "model_id": "f5ecd30a6cc34ccd9189a22a756be892",
       "version_major": 2,
       "version_minor": 0
      },
      "text/plain": [
       "HBox(children=(FloatProgress(value=0.0, max=994.0), HTML(value='')))"
      ]
     },
     "metadata": {},
     "output_type": "display_data"
    },
    {
     "name": "stdout",
     "output_type": "stream",
     "text": [
      "\n"
     ]
    }
   ],
   "source": [
    "# perform google search for links to scrape\n",
    "\n",
    "\n",
    "for cs in tqdm(county_state['county_state']):\n",
    "    wait_time = random.randint(1,3)\n",
    "    search_string = cs + ' + Wiki'\n",
    "    \n",
    "    this_list = list(search(search_string, tld=\"com\", num=1, stop=1, pause=wait_time))\n",
    "    \n",
    "    county_state.loc[county_state['county_state'] == cs, 'Wiki Link 1'] = this_list[0]\n",
    "#     county_state.loc[county_state['county_state'] == cs, 'Wiki Link 2'] = this_list[1]\n",
    "    \n",
    "    search_string2 = cs + ' + demographics + worldpopulationreview'\n",
    "    demogs = list(search(search_string2, tld=\"com\", num=1, stop=1, pause=wait_time))\n",
    "    \n",
    "    county_state.loc[county_state['county_state'] == cs, 'Demogs Link 1'] = demogs[0]\n",
    "#     county_state.loc[county_state['county_state'] == cs, 'Demogs Link 2'] = demogs[1]\n",
    "    \n",
    "county_state.to_csv('./county_state.csv')"
   ]
  },
  {
   "cell_type": "markdown",
   "metadata": {},
   "source": [
    "## Website Scraping from Wiki"
   ]
  },
  {
   "cell_type": "code",
   "execution_count": 43,
   "metadata": {},
   "outputs": [
    {
     "name": "stderr",
     "output_type": "stream",
     "text": [
      "/Library/Frameworks/Python.framework/Versions/3.7/lib/python3.7/site-packages/ipykernel_launcher.py:2: TqdmDeprecationWarning: This function will be removed in tqdm==5.0.0\n",
      "Please use `tqdm.notebook.tqdm` instead of `tqdm.tqdm_notebook`\n",
      "  \n"
     ]
    },
    {
     "data": {
      "application/vnd.jupyter.widget-view+json": {
       "model_id": "d16bac9d4d944e5298f5b97f83455a6f",
       "version_major": 2,
       "version_minor": 0
      },
      "text/plain": [
       "HBox(children=(FloatProgress(value=0.0, max=1674.0), HTML(value='')))"
      ]
     },
     "metadata": {},
     "output_type": "display_data"
    },
    {
     "name": "stdout",
     "output_type": "stream",
     "text": [
      "\n"
     ]
    }
   ],
   "source": [
    "# scrape page from the wiki website\n",
    "i = 0\n",
    "for link in tqdm(county_state['Wiki Link 1']):\n",
    "    res = requests.get(link)\n",
    "    item_id = county_state.iloc[i]['county_state']\n",
    "    i = i + 1\n",
    "    file_name = '/Volumes/GoogleDrive/My Drive/CountyData/{}.htm'.format(item_id)\n",
    "    # open file and write page content\n",
    "    with open(file_name,'wb') as open_file:\n",
    "        open_file.write(res.content)\n",
    "        open_file.close()\n",
    "    # delay 2 seconds for next page request\n",
    "    sleep(2)"
   ]
  },
  {
   "cell_type": "code",
   "execution_count": 11,
   "metadata": {},
   "outputs": [
    {
     "name": "stderr",
     "output_type": "stream",
     "text": [
      "/Library/Frameworks/Python.framework/Versions/3.7/lib/python3.7/site-packages/ipykernel_launcher.py:3: TqdmDeprecationWarning: This function will be removed in tqdm==5.0.0\n",
      "Please use `tqdm.notebook.tqdm` instead of `tqdm.tqdm_notebook`\n",
      "  This is separate from the ipykernel package so we can avoid doing imports until\n"
     ]
    },
    {
     "data": {
      "application/vnd.jupyter.widget-view+json": {
       "model_id": "0d977718954944189e6b6841b424230f",
       "version_major": 2,
       "version_minor": 0
      },
      "text/plain": [
       "HBox(children=(FloatProgress(value=0.0, max=1674.0), HTML(value='')))"
      ]
     },
     "metadata": {},
     "output_type": "display_data"
    },
    {
     "name": "stdout",
     "output_type": "stream",
     "text": [
      "\n"
     ]
    }
   ],
   "source": [
    "# scrape list from the website\n",
    "i = 0\n",
    "for link in tqdm(county_state['Demogs Link 1']):\n",
    "    res = requests.get(link)\n",
    "    item_id = county_state.iloc[i]['county_state']\n",
    "    i = i + 1\n",
    "    file_name = '/Volumes/GoogleDrive/My Drive/CountyDataDemogs/{}.htm'.format(item_id)\n",
    "    # open file and write page content\n",
    "    with open(file_name,'wb') as open_file:\n",
    "        open_file.write(res.content)\n",
    "        open_file.close()\n",
    "    # delay 2 seconds for next page request\n",
    "    sleep(2)"
   ]
  },
  {
   "cell_type": "markdown",
   "metadata": {},
   "source": [
    "## Extracting Information"
   ]
  },
  {
   "cell_type": "code",
   "execution_count": 12,
   "metadata": {},
   "outputs": [],
   "source": [
    "# get all files from path\n",
    "mypath = '/Volumes/GoogleDrive/My Drive/CountyData/'\n",
    "files = [f for f in listdir(mypath) if isfile(join(mypath, f))]"
   ]
  },
  {
   "cell_type": "code",
   "execution_count": 13,
   "metadata": {},
   "outputs": [
    {
     "name": "stderr",
     "output_type": "stream",
     "text": [
      "/Library/Frameworks/Python.framework/Versions/3.7/lib/python3.7/site-packages/ipykernel_launcher.py:2: TqdmDeprecationWarning: This function will be removed in tqdm==5.0.0\n",
      "Please use `tqdm.notebook.tqdm` instead of `tqdm.tqdm_notebook`\n",
      "  \n"
     ]
    },
    {
     "data": {
      "application/vnd.jupyter.widget-view+json": {
       "model_id": "e6dc3bffa9084ba997017f1773ef4f54",
       "version_major": 2,
       "version_minor": 0
      },
      "text/plain": [
       "HBox(children=(FloatProgress(value=0.0, max=1674.0), HTML(value='')))"
      ]
     },
     "metadata": {},
     "output_type": "display_data"
    },
    {
     "name": "stdout",
     "output_type": "stream",
     "text": [
      "Washington Oregon []\n",
      "Unknown Rhode Island.htm\n",
      "Bergen New Jersey.htm\n",
      "Jefferson Colorado []\n",
      "Washoe Nevada []\n",
      "Honolulu Hawaii ['5,791', '4,700']\n",
      "Wayne Pennsylvania []\n",
      "Clark Washington []\n",
      "St. Johns Florida.htm\n",
      "Howard Indiana []\n",
      "Johnson Indiana []\n",
      "Island Washington.htm\n",
      "Montgomery Kentucky []\n",
      "Albany New York ['4,587.20', '180']\n",
      "San Benito California []\n",
      "Clear Creek Colorado []\n",
      "Pearl River Mississippi []\n",
      "Ocean New Jersey.htm\n",
      "Unknown Puerto Rico.htm\n",
      "El Paso Texas []\n",
      "Travis Texas []\n",
      "Grant Washington.htm\n",
      "Graham Arizona []\n",
      "Mesa Colorado []\n",
      "Woodford Illinois []\n",
      "Bourbon Kentucky.htm\n",
      "Bristol Massachusetts.htm\n",
      "Unknown Virgin Islands.htm\n",
      "Baker Florida []\n",
      "Unknown Guam.htm\n",
      "Payne Oklahoma []\n",
      "Lehigh Pennsylvania []\n",
      "Lewis Washington []\n",
      "Lincoln Washington []\n",
      "Cleveland Arkansas []\n",
      "Desha Arkansas []\n",
      "Lake Florida []\n",
      "Unknown Maine.htm\n",
      "Unknown Massachusetts.htm\n",
      "Durham North Carolina []\n",
      "Matagorda Texas.htm\n",
      "Lake Indiana.htm\n",
      "Martin Minnesota []\n",
      "Gloucester New Jersey.htm\n",
      "Clinton New York.htm\n",
      "Iredell North Carolina []\n",
      "Lake Ohio.htm\n",
      "Lubbock Texas []\n",
      "Franklin Washington.htm\n",
      "Fayette Indiana []\n",
      "Unknown Louisiana.htm\n",
      "Lincoln Nebraska ['2,987.7', '2,887.2', '235.3', '156.0']\n",
      "Miami Ohio []\n",
      "Medina Texas.htm\n",
      "Washington Wisconsin.htm\n",
      "Greene Arkansas []\n",
      "Indian River Florida []\n",
      "Wayne Indiana []\n",
      "Unknown Kentucky.htm\n",
      "St. Landry Louisiana []\n",
      "Clinton Michigan.htm\n",
      "Scott Mississippi []\n",
      "Unknown Nevada []\n",
      "Grady Oklahoma []\n",
      "Dorchester South Carolina.htm\n",
      "Unknown Tennessee.htm\n",
      "Columbia Wisconsin []\n",
      "Washington Alabama []\n",
      "Unknown Arkansas.htm\n",
      "Unknown Georgia.htm\n",
      "Worth Georgia.htm\n",
      "Adams Illinois []\n",
      "Allen Indiana []\n",
      "Lawrence Mississippi []\n",
      "Pulaski Missouri.htm\n",
      "Scott Missouri.htm\n",
      "Unknown Missouri.htm\n",
      "Buffalo Nebraska []\n",
      "Cumberland New Jersey []\n",
      "Fulton New York.htm\n",
      "Niagara New York ['3,452.51', '2,663.5']\n",
      "Tipton Tennessee []\n",
      "Fannin Texas []\n",
      "Hockley Texas.htm\n",
      "Natrona Wyoming []\n",
      "Apache Arizona []\n",
      "El Dorado California []\n",
      "Delaware Indiana []\n",
      "Harrison Indiana []\n",
      "Miami Indiana []\n",
      "Evangeline Louisiana []\n",
      "Unknown Minnesota.htm\n",
      "Clay Mississippi []\n",
      "Washington Mississippi.htm\n",
      "Monroe Tennessee []\n",
      "Castro Texas []\n",
      "Marshall West Virginia []\n",
      "Unknown California.htm\n",
      "Unknown Colorado.htm\n",
      "Unknown Florida.htm\n",
      "Coffee Georgia.htm\n",
      "Monroe Indiana.htm\n",
      "Scott Indiana []\n",
      "Jackson Kansas []\n",
      "Mitchell Kansas []\n",
      "St. Mary's Maryland []\n",
      "Montgomery Mississippi []\n",
      "Cumberland North Carolina []\n",
      "Houston Tennessee []\n",
      "Whitman Washington.htm\n",
      "Houston Alabama []\n",
      "Juneau City and Borough Alaska ['11.88', '1,749.5']\n",
      "Unknown Hawaii.htm\n",
      "Unknown Illinois.htm\n",
      "Allen Louisiana []\n",
      "Grant Louisiana []\n",
      "Lamar Mississippi.htm\n",
      "Adair Missouri.htm\n",
      "Pontotoc Oklahoma []\n",
      "Lyman South Dakota.htm\n",
      "Adams Washington []\n",
      "Douglas Washington []\n",
      "Macon Georgia []\n",
      "Stephens Georgia []\n",
      "Jackson Indiana []\n",
      "Buchanan Iowa []\n",
      "Cedar Iowa []\n",
      "Doniphan Kansas []\n",
      "Choctaw Mississippi []\n",
      "Crawford Ohio.htm\n",
      "Carbon Pennsylvania []\n",
      "Madison Tennessee []\n",
      "Victoria Texas []\n",
      "Harrison West Virginia.htm\n",
      "Preston West Virginia []\n",
      "Wood West Virginia []\n",
      "Taylor Georgia []\n",
      "Thomas Georgia []\n",
      "Douglas Illinois.htm\n",
      "Logan Illinois.htm\n",
      "Crawford Kansas []\n",
      "Franklin New York.htm\n",
      "Mercer Ohio.htm\n",
      "Lawrence Pennsylvania []\n",
      "Washington Rhode Island.htm\n",
      "Bedford Tennessee.htm\n",
      "Atascosa Texas.htm\n",
      "Hunt Texas []\n",
      "Walker Texas []\n",
      "Wilson Texas []\n",
      "Nelson Virginia []\n",
      "Ferry Washington []\n",
      "Okanogan Washington ['1,290.34', '1,737']\n",
      "Raleigh West Virginia []\n",
      "Grant Wisconsin.htm\n",
      "Iowa Wisconsin []\n",
      "Custer Idaho []\n",
      "Unknown Idaho.htm\n",
      "Orange Indiana []\n",
      "Jefferson Kansas []\n",
      "Union Kentucky []\n",
      "Webster Kentucky []\n",
      "Unknown Michigan.htm\n",
      "Benton Mississippi []\n",
      "Lauderdale Mississippi.htm\n",
      "Ottawa Oklahoma []\n",
      "Macon Tennessee []\n",
      "Unknown Utah.htm\n",
      "Clark Wisconsin []\n",
      "\n"
     ]
    }
   ],
   "source": [
    "unfinished_files = []\n",
    "for file in tqdm(files):\n",
    "    with open('{}/{}'.format(mypath, file), 'r') as open_file:\n",
    "        soup = bs.BeautifulSoup(open_file, 'html.parser')\n",
    "        cs_name = file.strip('.htm')\n",
    "        try:\n",
    "            density = re.findall('(?!Density)[\\d,.]+(?=\\/sq)', soup.find('table', {'class': 'infobox'}).get_text())\n",
    "        except: \n",
    "            print(file)\n",
    "            density = None\n",
    "        \n",
    "#         print(cs_name)\n",
    "        try: \n",
    "            county_state.loc[county_state['county_state'] == cs_name, 'Density'] = density\n",
    "        except:\n",
    "            unfinished_files.append(file)\n",
    "            print(cs_name, density)"
   ]
  },
  {
   "cell_type": "code",
   "execution_count": 6,
   "metadata": {},
   "outputs": [],
   "source": [
    "mypath = '/Volumes/GoogleDrive/My Drive/CountyDataDemogs/'\n",
    "files = [f for f in listdir(mypath) if isfile(join(mypath, f))]"
   ]
  },
  {
   "cell_type": "code",
   "execution_count": 7,
   "metadata": {
    "scrolled": true
   },
   "outputs": [
    {
     "name": "stderr",
     "output_type": "stream",
     "text": [
      "/Library/Frameworks/Python.framework/Versions/3.7/lib/python3.7/site-packages/ipykernel_launcher.py:2: TqdmDeprecationWarning: This function will be removed in tqdm==5.0.0\n",
      "Please use `tqdm.notebook.tqdm` instead of `tqdm.tqdm_notebook`\n",
      "  \n"
     ]
    },
    {
     "data": {
      "application/vnd.jupyter.widget-view+json": {
       "model_id": "b57ecd1ccc2f44179ab7336f4c244647",
       "version_major": 2,
       "version_minor": 0
      },
      "text/plain": [
       "HBox(children=(FloatProgress(value=0.0, max=1674.0), HTML(value='')))"
      ]
     },
     "metadata": {},
     "output_type": "display_data"
    },
    {
     "name": "stdout",
     "output_type": "stream",
     "text": [
      "Female Veterans \n",
      "$Average Male \n",
      "Number of Veterans \n",
      "Male Veterans \n",
      "Female Veterans \n",
      "Female Veterans \n",
      "Female Veterans \n",
      "Female Veterans \n",
      "Female Veterans \n",
      "Female Veterans \n",
      "Female Veterans \n",
      "$Average Female \n",
      "Female Veterans \n",
      "$Average Female \n",
      "Female Veterans \n",
      "Female Veterans \n",
      "Female Veterans \n",
      "Female Veterans \n",
      "Female Veterans \n",
      "$Average Male \n",
      "Female Veterans \n",
      "Female Veterans \n",
      "Female Veterans \n",
      "Female Veterans \n",
      "Female Veterans \n",
      "Female Veterans \n",
      "$Average Female \n",
      "Female Veterans \n",
      "Female Veterans \n",
      "Female Veterans \n",
      "Female Veterans \n",
      "Female Veterans \n",
      "Female Veterans \n",
      "Female Veterans \n",
      "Female Veterans \n",
      "Female Veterans \n",
      "Female Veterans \n",
      "Female Veterans \n",
      "$Average Female \n",
      "$Average Male \n",
      "$Average Female \n",
      "Female Veterans \n",
      "Female Veterans \n",
      "Female Veterans \n",
      "Female Veterans \n",
      "Female Veterans \n",
      "Female Veterans \n",
      "Female Veterans \n",
      "Female Veterans \n",
      "Female Veterans \n",
      "Female Veterans \n",
      "Female Veterans \n",
      "Female Veterans \n",
      "Female Veterans \n",
      "Female Veterans \n",
      "$Average Male \n",
      "$Average Female \n",
      "Female Veterans \n",
      "Female Veterans \n",
      "Female Veterans \n",
      "Female Veterans \n",
      "$Average Female \n",
      "$Average Female \n",
      "Female Veterans \n",
      "Female Veterans \n",
      "Female Veterans \n",
      "Female Veterans \n",
      "Female Veterans \n",
      "Female Veterans \n",
      "Female Veterans \n",
      "Female Veterans \n",
      "Female Veterans \n",
      "Female Veterans \n",
      "Female Veterans \n",
      "Female Veterans \n",
      "Female Veterans \n",
      "Female Veterans \n",
      "Female Veterans \n",
      "Female Veterans \n",
      "$Average Female \n",
      "Female Veterans \n",
      "Female Veterans \n",
      "Female Veterans \n",
      "Female Veterans \n",
      "Female Veterans \n",
      "Female Veterans \n",
      "Female Veterans \n",
      "Number of Veterans \n",
      "Male Veterans \n",
      "Female Veterans \n",
      "Female Veterans \n",
      "Female Veterans \n",
      "Female Veterans \n",
      "Female Veterans \n",
      "$Average Female \n",
      "Female Veterans \n",
      "Female Veterans \n",
      "Female Veterans \n",
      "Female Veterans \n",
      "$Average Male \n",
      "Female Veterans \n",
      "Female Veterans \n",
      "Female Veterans \n",
      "Female Veterans \n",
      "Female Veterans \n",
      "Female Veterans \n",
      "Female Veterans \n",
      "$Average Female \n",
      "Female Veterans \n",
      "Female Veterans \n",
      "$Average Male \n",
      "$Average Female \n",
      "Female Veterans \n",
      "Female Veterans \n",
      "Female Veterans \n",
      "Female Veterans \n",
      "Female Veterans \n",
      "Female Veterans \n",
      "Female Veterans \n",
      "Female Veterans \n",
      "Female Veterans \n",
      "Female Veterans \n",
      "$Average Female \n",
      "Female Veterans \n",
      "$Average Male \n",
      "Female Veterans \n",
      "Female Veterans \n",
      "Female Veterans \n",
      "Female Veterans \n",
      "Female Veterans \n",
      "$Average Male \n",
      "Female Veterans \n",
      "Female Veterans \n",
      "Female Veterans \n",
      "Male Veterans \n",
      "Female Veterans \n",
      "$Average Female \n",
      "Female Veterans \n",
      "Female Veterans \n",
      "Female Veterans \n",
      "Female Veterans \n",
      "Female Veterans \n",
      "Female Veterans \n",
      "$Average Male \n",
      "$Average Female \n",
      "Female Veterans \n",
      "Female Veterans \n",
      "Female Veterans \n",
      "Female Veterans \n",
      "Female Veterans \n",
      "$Average Male \n",
      "$Average Female \n",
      "Female Veterans \n",
      "$Average Male \n",
      "$Average Female \n",
      "Female Veterans \n",
      "Female Veterans \n",
      "Female Veterans \n",
      "Female Veterans \n",
      "Female Veterans \n",
      "Female Veterans \n",
      "Female Veterans \n",
      "$Average Female \n",
      "Female Veterans \n",
      "Female Veterans \n",
      "Female Veterans \n",
      "Female Veterans \n",
      "Female Veterans \n",
      "\n"
     ]
    }
   ],
   "source": [
    "all_list = {}\n",
    "for file in tqdm(files):\n",
    "    cs_name = file.strip('.htm')\n",
    "    sample_dict = {}\n",
    "    with open('{}{}'.format(mypath,file), 'r') as open_file:\n",
    "        soup = bs.BeautifulSoup(open_file, 'html.parser')\n",
    "        try:\n",
    "            population = soup.find(class_='HowManyPeople__StyledHMP-xzf4b-0').find('span').get_text()\n",
    "        except:\n",
    "            population = None\n",
    "        try: \n",
    "            median_age = soup.find(class_='MedianAge__StyledMedianAge-wsd6zy-0').find('div').find('div').find('p').get_text()\n",
    "        except:\n",
    "            median_age = None\n",
    "        \n",
    "        try:\n",
    "            pop_female = soup.find(class_='SexRatio__StyledSexRow-chhu46-1').find_all('p')[2].get_text()\n",
    "        except:\n",
    "            pop_female = None\n",
    "            \n",
    "        try:\n",
    "            pop_male = soup.find_all(class_='SexRatio__StyledSexRow-chhu46-1')[1].find_all('p')[2].get_text()\n",
    "        except:\n",
    "            pop_male = None\n",
    "            \n",
    "#         sample_dict[file]['State County'] = file.strip('.htm')\n",
    "        sample_dict['Population'] = [population]\n",
    "        sample_dict['Median Age'] = [median_age]\n",
    "        sample_dict['Female Population Percent'] = [pop_female]\n",
    "        sample_dict['Male Population Percent'] = [pop_male]\n",
    "        \n",
    "        for i in soup.find_all(class_='SidebarRowDiv__StyledRow-llp1s-0'):\n",
    "            label = i.find(class_='rowlabel').get_text()\n",
    "            value = i.find(class_='rowvalue').get_text()\n",
    "            label_check = [x for x in county_data['state'].unique() if x in label]\n",
    "            if len(label_check) > 0:\n",
    "                label = label.replace(label_check[0], 'State')\n",
    "            sample_dict[label] = [value]\n",
    "\n",
    "        for i in soup.find_all(class_='ValueRow__StyledValueRow-jn3gri-0'):\n",
    "            text = i.get_text()\n",
    "            if '%' in text:\n",
    "                try:\n",
    "                    value = text.split('%')[0]\n",
    "                    label = text.split('%')[1]\n",
    "                except:\n",
    "                    print(text)\n",
    "                    continue\n",
    "            elif '$' in text:\n",
    "                try:\n",
    "                    value = re.findall('[\\d,]+', text)[0]\n",
    "                    label = re.findall('(?![$\\d,]+)[ \\w]+', text)[0]\n",
    "                except:\n",
    "                    print(text)\n",
    "                    continue\n",
    "            else:\n",
    "                try:\n",
    "                    value = re.findall('[\\d.]+', text)[0]\n",
    "                    label = re.findall('[A-Za-z ]+', text)[0]\n",
    "                except:\n",
    "                    print(text)\n",
    "                    continue\n",
    "            label_check = [x for x in county_data['state'].unique() if x in label]\n",
    "            if len(label_check) > 0:\n",
    "                label = label.replace(label_check[0], 'State')\n",
    "            sample_dict[label] = [value]\n",
    "\n",
    "        for i in soup.find_all(class_='ValueRowLarge__StyledValueRow-sc-1dpjgf4-0'):\n",
    "            text = i.get_text()\n",
    "            if '%' in text:\n",
    "                try:\n",
    "                    value = text.split('%')[0]\n",
    "                    label = text.split('%')[1]\n",
    "                except:\n",
    "                    print(text)\n",
    "                    continue\n",
    "            elif '$' in text:\n",
    "                try:\n",
    "                    value = re.findall('[\\d,]+', text)[0]\n",
    "                    label = re.findall('(?![$\\d,]+)[ \\w]+', text)[0]\n",
    "                except:\n",
    "                    print(text)\n",
    "                    continue\n",
    "            else:\n",
    "                try:\n",
    "                    value = re.findall('[\\d.]+', text)[0]\n",
    "                    label = re.findall('[A-Za-z ]+', text)[0]\n",
    "                except:\n",
    "                    print(text)\n",
    "                    continue\n",
    "            label_check = [x for x in county_data['state'].unique() if x in label]\n",
    "            if len(label_check) > 0:\n",
    "                label = label.replace(label_check[0], 'State')\n",
    "            sample_dict[label] = [value]\n",
    "        all_list[cs_name] = sample_dict "
   ]
  },
  {
   "cell_type": "markdown",
   "metadata": {},
   "source": [
    "## Aggregating List into Dataframe"
   ]
  },
  {
   "cell_type": "code",
   "execution_count": 8,
   "metadata": {},
   "outputs": [
    {
     "name": "stderr",
     "output_type": "stream",
     "text": [
      "/Library/Frameworks/Python.framework/Versions/3.7/lib/python3.7/site-packages/ipykernel_launcher.py:2: TqdmDeprecationWarning: This function will be removed in tqdm==5.0.0\n",
      "Please use `tqdm.notebook.tqdm` instead of `tqdm.tqdm_notebook`\n",
      "  \n"
     ]
    },
    {
     "data": {
      "application/vnd.jupyter.widget-view+json": {
       "model_id": "cc5f7453d3ca4c69a7703dbaf11009a9",
       "version_major": 2,
       "version_minor": 0
      },
      "text/plain": [
       "HBox(children=(FloatProgress(value=0.0, max=1674.0), HTML(value='')))"
      ]
     },
     "metadata": {},
     "output_type": "display_data"
    },
    {
     "name": "stdout",
     "output_type": "stream",
     "text": [
      "\n"
     ]
    }
   ],
   "source": [
    "main_df = pd.DataFrame()\n",
    "for key in tqdm(all_list.keys()):\n",
    "    temp_df = pd.DataFrame(all_list[key])\n",
    "    temp_df['State County'] = key\n",
    "    main_df = main_df.append(temp_df)"
   ]
  },
  {
   "cell_type": "code",
   "execution_count": 11,
   "metadata": {},
   "outputs": [
    {
     "data": {
      "text/plain": [
       "0        Snohomish Washington\n",
       "1        Snohomish Washington\n",
       "2        Snohomish Washington\n",
       "3               Cook Illinois\n",
       "4        Snohomish Washington\n",
       "                 ...         \n",
       "19708        Sheridan Wyoming\n",
       "19709        Sublette Wyoming\n",
       "19710      Sweetwater Wyoming\n",
       "19711           Teton Wyoming\n",
       "19712        Washakie Wyoming\n",
       "Name: county_state, Length: 19713, dtype: object"
      ]
     },
     "execution_count": 11,
     "metadata": {},
     "output_type": "execute_result"
    }
   ],
   "source": [
    "county_state"
   ]
  },
  {
   "cell_type": "code",
   "execution_count": 12,
   "metadata": {},
   "outputs": [
    {
     "data": {
      "text/plain": [
       "array(['Washington', 'Illinois', 'California', 'Arizona', 'Massachusetts',\n",
       "       'Wisconsin', 'Texas', 'Nebraska', 'Utah', 'Oregon', 'Florida',\n",
       "       'New York', 'Rhode Island', 'Georgia', 'New Hampshire',\n",
       "       'North Carolina', 'New Jersey', 'Colorado', 'Maryland', 'Nevada',\n",
       "       'Tennessee', 'Hawaii', 'Indiana', 'Kentucky', 'Minnesota',\n",
       "       'Oklahoma', 'Pennsylvania', 'South Carolina',\n",
       "       'District of Columbia', 'Kansas', 'Missouri', 'Vermont',\n",
       "       'Virginia', 'Connecticut', 'Iowa', 'Louisiana', 'Ohio', 'Michigan',\n",
       "       'South Dakota', 'Arkansas', 'Delaware', 'Mississippi',\n",
       "       'New Mexico', 'North Dakota', 'Wyoming', 'Alaska', 'Maine',\n",
       "       'Alabama', 'Idaho', 'Montana', 'Puerto Rico', 'Virgin Islands',\n",
       "       'Guam', 'West Virginia', 'Northern Mariana Islands'], dtype=object)"
      ]
     },
     "execution_count": 12,
     "metadata": {},
     "output_type": "execute_result"
    }
   ],
   "source": [
    "county_data['state'].unique()"
   ]
  },
  {
   "cell_type": "code",
   "execution_count": 13,
   "metadata": {},
   "outputs": [],
   "source": [
    "na_breakdown = (main_df.isnull().sum() / main_df.shape[0] * 100).reset_index()"
   ]
  },
  {
   "cell_type": "code",
   "execution_count": 14,
   "metadata": {},
   "outputs": [],
   "source": [
    "na_breakdown = na_breakdown.sort_values(0, ascending=False).reset_index(drop= True)"
   ]
  },
  {
   "cell_type": "code",
   "execution_count": 15,
   "metadata": {},
   "outputs": [
    {
     "data": {
      "text/plain": [
       "<matplotlib.axes._subplots.AxesSubplot at 0x12014f390>"
      ]
     },
     "execution_count": 15,
     "metadata": {},
     "output_type": "execute_result"
    },
    {
     "data": {
      "image/png": "[encoded data removed]",
      "text/plain": [
       "<Figure size 432x288 with 1 Axes>"
      ]
     },
     "metadata": {
      "needs_background": "light"
     },
     "output_type": "display_data"
    }
   ],
   "source": [
    "na_breakdown[0].hist()"
   ]
  },
  {
   "cell_type": "code",
   "execution_count": 16,
   "metadata": {},
   "outputs": [],
   "source": [
    "appended_county_data = county_data.merge(main_df, left_on='county_state', right_on='State County', how='left')"
   ]
  },
  {
   "cell_type": "code",
   "execution_count": 17,
   "metadata": {},
   "outputs": [],
   "source": [
    "appended_county_data = appended_county_data.reset_index()"
   ]
  },
  {
   "cell_type": "code",
   "execution_count": 2,
   "metadata": {},
   "outputs": [
    {
     "ename": "NameError",
     "evalue": "name 'appended_county_data' is not defined",
     "output_type": "error",
     "traceback": [
      "\u001b[0;31m---------------------------------------------------------------------------\u001b[0m",
      "\u001b[0;31mNameError\u001b[0m                                 Traceback (most recent call last)",
      "\u001b[0;32m<ipython-input-2-63414a4459af>\u001b[0m in \u001b[0;36m<module>\u001b[0;34m\u001b[0m\n\u001b[0;32m----> 1\u001b[0;31m \u001b[0mappended_county_data\u001b[0m\u001b[0;34m.\u001b[0m\u001b[0mhead\u001b[0m\u001b[0;34m(\u001b[0m\u001b[0;34m)\u001b[0m\u001b[0;34m\u001b[0m\u001b[0;34m\u001b[0m\u001b[0m\n\u001b[0m",
      "\u001b[0;31mNameError\u001b[0m: name 'appended_county_data' is not defined"
     ]
    }
   ],
   "source": []
  },
  {
   "cell_type": "code",
   "execution_count": 18,
   "metadata": {},
   "outputs": [],
   "source": [
    "appended_county_data.to_csv('./appended_us-counties.csv', index=False)"
   ]
  },
  {
   "cell_type": "markdown",
   "metadata": {},
   "source": [
    "## Scratch Area"
   ]
  },
  {
   "cell_type": "code",
   "execution_count": 276,
   "metadata": {},
   "outputs": [],
   "source": [
    "with open('{}{}'.format(mypath,files[0]), 'r') as open_file:\n",
    "        soup = bs.BeautifulSoup(open_file, 'html.parser')"
   ]
  },
  {
   "cell_type": "code",
   "execution_count": 318,
   "metadata": {},
   "outputs": [
    {
     "name": "stdout",
     "output_type": "stream",
     "text": [
      "Born in State \n"
     ]
    }
   ],
   "source": [
    "for i in soup.find_all(class_='ValueRowLarge__StyledValueRow-sc-1dpjgf4-0'):\n",
    "    text = i.get_text()\n",
    "    if '%' in text:\n",
    "        try:\n",
    "            value = text.split('%')[0]\n",
    "            label = text.split('%')[1]\n",
    "        except:\n",
    "            print(text)\n",
    "            continue\n",
    "    elif '$' in text:\n",
    "        try:\n",
    "            value = re.findall('[\\d,]+', text)[0]\n",
    "            label = re.findall('(?![$\\d,]+)[ \\w]+', text)[0]\n",
    "        except:\n",
    "            print(text)\n",
    "            continue\n",
    "    else:\n",
    "        try:\n",
    "            value = re.findall('[\\d.]+', text)[0]\n",
    "            label = re.findall('[A-Za-z ]+', text)[0]\n",
    "#             print(text)\n",
    "        except:\n",
    "            print(text)\n",
    "            continue\n",
    "    label_check = [x for x in county_data['state'].unique() if x in label]\n",
    "    if len(label_check) > 0:\n",
    "        label = label.replace(label_check[0], 'State')\n"
   ]
  },
  {
   "cell_type": "code",
   "execution_count": 105,
   "metadata": {},
   "outputs": [
    {
     "data": {
      "text/plain": [
       "{'Age Dependency Ratio ': ['63.1'],\n",
       " 'Old Age Dependency Ratio ': ['23.5', 32],\n",
       " 'Child Dependency Ratio ': ['39.6'],\n",
       " 'Average Family Size ': ['3.09'],\n",
       " 'Average Household Size ': ['2.45'],\n",
       " 'Unmarried (Opposite Sex) ': ['4.5'],\n",
       " 'Unmarried (Same Sex) ': ['0']}"
      ]
     },
     "execution_count": 105,
     "metadata": {},
     "output_type": "execute_result"
    }
   ],
   "source": [
    "sample_dict"
   ]
  },
  {
   "cell_type": "code",
   "execution_count": 121,
   "metadata": {},
   "outputs": [
    {
     "data": {
      "text/html": [
       "<div>\n",
       "<style scoped>\n",
       "    .dataframe tbody tr th:only-of-type {\n",
       "        vertical-align: middle;\n",
       "    }\n",
       "\n",
       "    .dataframe tbody tr th {\n",
       "        vertical-align: top;\n",
       "    }\n",
       "\n",
       "    .dataframe thead th {\n",
       "        text-align: right;\n",
       "    }\n",
       "</style>\n",
       "<table border=\"1\" class=\"dataframe\">\n",
       "  <thead>\n",
       "    <tr style=\"text-align: right;\">\n",
       "      <th></th>\n",
       "      <th>index</th>\n",
       "      <th>0</th>\n",
       "    </tr>\n",
       "  </thead>\n",
       "  <tbody>\n",
       "    <tr>\n",
       "      <th>0</th>\n",
       "      <td>Age Dependency Ratio</td>\n",
       "      <td>63.1</td>\n",
       "    </tr>\n",
       "    <tr>\n",
       "      <th>1</th>\n",
       "      <td>Old Age Dependency Ratio</td>\n",
       "      <td>23.5</td>\n",
       "    </tr>\n",
       "    <tr>\n",
       "      <th>2</th>\n",
       "      <td>Child Dependency Ratio</td>\n",
       "      <td>39.6</td>\n",
       "    </tr>\n",
       "    <tr>\n",
       "      <th>3</th>\n",
       "      <td>Average Family Size</td>\n",
       "      <td>3.09</td>\n",
       "    </tr>\n",
       "    <tr>\n",
       "      <th>4</th>\n",
       "      <td>Average Household Size</td>\n",
       "      <td>2.45</td>\n",
       "    </tr>\n",
       "    <tr>\n",
       "      <th>5</th>\n",
       "      <td>Unmarried (Opposite Sex)</td>\n",
       "      <td>4.5</td>\n",
       "    </tr>\n",
       "    <tr>\n",
       "      <th>6</th>\n",
       "      <td>Unmarried (Same Sex)</td>\n",
       "      <td>0</td>\n",
       "    </tr>\n",
       "    <tr>\n",
       "      <th>7</th>\n",
       "      <td>Rate of Home Ownership</td>\n",
       "      <td>51.7</td>\n",
       "    </tr>\n",
       "    <tr>\n",
       "      <th>8</th>\n",
       "      <td>Average Earnings</td>\n",
       "      <td>42,870</td>\n",
       "    </tr>\n",
       "    <tr>\n",
       "      <th>9</th>\n",
       "      <td>Average Male</td>\n",
       "      <td>54,894</td>\n",
       "    </tr>\n",
       "    <tr>\n",
       "      <th>10</th>\n",
       "      <td>Average Female</td>\n",
       "      <td>34,500</td>\n",
       "    </tr>\n",
       "    <tr>\n",
       "      <th>11</th>\n",
       "      <td>Overall Poverty Rate</td>\n",
       "      <td>10.63</td>\n",
       "    </tr>\n",
       "    <tr>\n",
       "      <th>12</th>\n",
       "      <td>Male Poverty Rate</td>\n",
       "      <td>9.64</td>\n",
       "    </tr>\n",
       "    <tr>\n",
       "      <th>13</th>\n",
       "      <td>Female Poverty Rate</td>\n",
       "      <td>11.45</td>\n",
       "    </tr>\n",
       "    <tr>\n",
       "      <th>14</th>\n",
       "      <td>Overall Marriage Rate</td>\n",
       "      <td>46.8</td>\n",
       "    </tr>\n",
       "    <tr>\n",
       "      <th>15</th>\n",
       "      <td>Male Marriage Rate</td>\n",
       "      <td>52.3</td>\n",
       "    </tr>\n",
       "    <tr>\n",
       "      <th>16</th>\n",
       "      <td>Female Marriage Rate</td>\n",
       "      <td>42.3</td>\n",
       "    </tr>\n",
       "    <tr>\n",
       "      <th>17</th>\n",
       "      <td>Number of Veterans</td>\n",
       "      <td>713</td>\n",
       "    </tr>\n",
       "    <tr>\n",
       "      <th>18</th>\n",
       "      <td>Male Veterans</td>\n",
       "      <td>690</td>\n",
       "    </tr>\n",
       "    <tr>\n",
       "      <th>19</th>\n",
       "      <td>Female Veterans</td>\n",
       "      <td>23</td>\n",
       "    </tr>\n",
       "    <tr>\n",
       "      <th>20</th>\n",
       "      <td>Veteran Poverty Rate</td>\n",
       "      <td>5.16</td>\n",
       "    </tr>\n",
       "    <tr>\n",
       "      <th>21</th>\n",
       "      <td>Veteran Disability Rate</td>\n",
       "      <td>25.97</td>\n",
       "    </tr>\n",
       "    <tr>\n",
       "      <th>22</th>\n",
       "      <td>Labor Force Participation</td>\n",
       "      <td>67.2</td>\n",
       "    </tr>\n",
       "    <tr>\n",
       "      <th>23</th>\n",
       "      <td>Employment Rate</td>\n",
       "      <td>64.2</td>\n",
       "    </tr>\n",
       "    <tr>\n",
       "      <th>24</th>\n",
       "      <td>Unemployment Rate</td>\n",
       "      <td>4.2</td>\n",
       "    </tr>\n",
       "    <tr>\n",
       "      <th>25</th>\n",
       "      <td>Born in Washington</td>\n",
       "      <td>58.90</td>\n",
       "    </tr>\n",
       "    <tr>\n",
       "      <th>26</th>\n",
       "      <td>Native Born</td>\n",
       "      <td>92.37</td>\n",
       "    </tr>\n",
       "    <tr>\n",
       "      <th>27</th>\n",
       "      <td>Foreign Born</td>\n",
       "      <td>7.63</td>\n",
       "    </tr>\n",
       "    <tr>\n",
       "      <th>28</th>\n",
       "      <td>Non Citizen</td>\n",
       "      <td>4.63</td>\n",
       "    </tr>\n",
       "  </tbody>\n",
       "</table>\n",
       "</div>"
      ],
      "text/plain": [
       "                         index       0\n",
       "0        Age Dependency Ratio     63.1\n",
       "1    Old Age Dependency Ratio     23.5\n",
       "2      Child Dependency Ratio     39.6\n",
       "3         Average Family Size     3.09\n",
       "4      Average Household Size     2.45\n",
       "5    Unmarried (Opposite Sex)      4.5\n",
       "6        Unmarried (Same Sex)        0\n",
       "7      Rate of Home Ownership     51.7\n",
       "8            Average Earnings   42,870\n",
       "9                Average Male   54,894\n",
       "10             Average Female   34,500\n",
       "11       Overall Poverty Rate    10.63\n",
       "12          Male Poverty Rate     9.64\n",
       "13        Female Poverty Rate    11.45\n",
       "14      Overall Marriage Rate     46.8\n",
       "15         Male Marriage Rate     52.3\n",
       "16       Female Marriage Rate     42.3\n",
       "17         Number of Veterans      713\n",
       "18              Male Veterans      690\n",
       "19            Female Veterans       23\n",
       "20       Veteran Poverty Rate     5.16\n",
       "21    Veteran Disability Rate    25.97\n",
       "22  Labor Force Participation     67.2\n",
       "23            Employment Rate     64.2\n",
       "24          Unemployment Rate      4.2\n",
       "25         Born in Washington    58.90\n",
       "26                Native Born    92.37\n",
       "27               Foreign Born     7.63\n",
       "28                Non Citizen     4.63"
      ]
     },
     "execution_count": 121,
     "metadata": {},
     "output_type": "execute_result"
    }
   ],
   "source": [
    "pd.DataFrame.from_dict(sample_dict, orient='index').reset_index()"
   ]
  },
  {
   "cell_type": "code",
   "execution_count": 119,
   "metadata": {},
   "outputs": [
    {
     "name": "stdout",
     "output_type": "stream",
     "text": [
      "51.7%Rate of Home Ownership \n",
      "51.7 Rate of Home Ownership \n",
      "$42,870Average Earnings \n",
      "42,870 Average Earnings \n",
      "$54,894Average Male \n",
      "54,894 Average Male \n",
      "$34,500Average Female \n",
      "34,500 Average Female \n",
      "10.63%Overall Poverty Rate \n",
      "10.63 Overall Poverty Rate \n",
      "9.64%Male Poverty Rate \n",
      "9.64 Male Poverty Rate \n",
      "11.45%Female Poverty Rate \n",
      "11.45 Female Poverty Rate \n",
      "46.8%Overall Marriage Rate \n",
      "46.8 Overall Marriage Rate \n",
      "52.3%Male Marriage Rate \n",
      "52.3 Male Marriage Rate \n",
      "42.3%Female Marriage Rate \n",
      "42.3 Female Marriage Rate \n",
      "713Number of Veterans \n",
      "713 Number of Veterans \n",
      "690Male Veterans \n",
      "690 Male Veterans \n",
      "23Female Veterans \n",
      "23 Female Veterans \n",
      "5.16%Veteran Poverty Rate \n",
      "5.16 Veteran Poverty Rate \n",
      "25.97%Veteran Disability Rate \n",
      "25.97 Veteran Disability Rate \n",
      "67.2%Labor Force Participation \n",
      "67.2 Labor Force Participation \n",
      "64.2%Employment Rate \n",
      "64.2 Employment Rate \n",
      "4.2%Unemployment Rate \n",
      "4.2 Unemployment Rate \n",
      "58.90%Born in Washington \n",
      "58.90 Born in Washington \n",
      "92.37%Native Born \n",
      "92.37 Native Born \n",
      "7.63%Foreign Born \n",
      "7.63 Foreign Born \n",
      "4.63%Non Citizen \n",
      "4.63 Non Citizen \n"
     ]
    }
   ],
   "source": [
    "for i in soup.find_all(class_='liMQHN'):\n",
    "    text = i.get_text()\n",
    "    if '%' in text:\n",
    "        value = text.split('%')[0]\n",
    "        label = text.split('%')[1]\n",
    "    elif '$' in text:\n",
    "        value = re.findall('[\\d,]+', text)[0]\n",
    "        label = re.findall('(?![$\\d,]+)[ \\w]+', text)[0]\n",
    "    else:\n",
    "        value = re.findall('[\\d]+[.[\\d]+]?', text)[0]\n",
    "        label = re.findall('(?![\\d.]+)[ \\w]+', text)[0]\n",
    "    print(i.get_text())\n",
    "    try:\n",
    "        sample_dict[label] = [value]\n",
    "    except: \n",
    "        sample_dict[label].append(value)\n",
    "    print(value, label)"
   ]
  },
  {
   "cell_type": "code",
   "execution_count": 120,
   "metadata": {},
   "outputs": [
    {
     "data": {
      "text/plain": [
       "{'Age Dependency Ratio ': ['63.1'],\n",
       " 'Old Age Dependency Ratio ': ['23.5'],\n",
       " 'Child Dependency Ratio ': ['39.6'],\n",
       " 'Average Family Size ': ['3.09'],\n",
       " 'Average Household Size ': ['2.45'],\n",
       " 'Unmarried (Opposite Sex) ': ['4.5'],\n",
       " 'Unmarried (Same Sex) ': ['0'],\n",
       " 'Rate of Home Ownership ': ['51.7'],\n",
       " 'Average Earnings ': ['42,870'],\n",
       " 'Average Male ': ['54,894'],\n",
       " 'Average Female ': ['34,500'],\n",
       " 'Overall Poverty Rate ': ['10.63'],\n",
       " 'Male Poverty Rate ': ['9.64'],\n",
       " 'Female Poverty Rate ': ['11.45'],\n",
       " 'Overall Marriage Rate ': ['46.8'],\n",
       " 'Male Marriage Rate ': ['52.3'],\n",
       " 'Female Marriage Rate ': ['42.3'],\n",
       " 'Number of Veterans ': ['713'],\n",
       " 'Male Veterans ': ['690'],\n",
       " 'Female Veterans ': ['23'],\n",
       " 'Veteran Poverty Rate ': ['5.16'],\n",
       " 'Veteran Disability Rate ': ['25.97'],\n",
       " 'Labor Force Participation ': ['67.2'],\n",
       " 'Employment Rate ': ['64.2'],\n",
       " 'Unemployment Rate ': ['4.2'],\n",
       " 'Born in Washington ': ['58.90'],\n",
       " 'Native Born ': ['92.37'],\n",
       " 'Foreign Born ': ['7.63'],\n",
       " 'Non Citizen ': ['4.63']}"
      ]
     },
     "execution_count": 120,
     "metadata": {},
     "output_type": "execute_result"
    }
   ],
   "source": [
    "sample_dict"
   ]
  },
  {
   "cell_type": "code",
   "execution_count": null,
   "metadata": {},
   "outputs": [],
   "source": []
  }
 ],
 "metadata": {
  "kernelspec": {
   "display_name": "Python 3",
   "language": "python",
   "name": "python3"
  },
  "language_info": {
   "codemirror_mode": {
    "name": "ipython",
    "version": 3
   },
   "file_extension": ".py",
   "mimetype": "text/x-python",
   "name": "python",
   "nbconvert_exporter": "python",
   "pygments_lexer": "ipython3",
   "version": "3.7.2"
  },
  "toc": {
   "base_numbering": 1,
   "nav_menu": {},
   "number_sections": true,
   "sideBar": true,
   "skip_h1_title": false,
   "title_cell": "Table of Contents",
   "title_sidebar": "Contents",
   "toc_cell": false,
   "toc_position": {},
   "toc_section_display": true,
   "toc_window_display": false
  },
  "varInspector": {
   "cols": {
    "lenName": 16,
    "lenType": 16,
    "lenVar": 40
   },
   "kernels_config": {
    "python": {
     "delete_cmd_postfix": "",
     "delete_cmd_prefix": "del ",
     "library": "var_list.py",
     "varRefreshCmd": "print(var_dic_list())"
    },
    "r": {
     "delete_cmd_postfix": ") ",
     "delete_cmd_prefix": "rm(",
     "library": "var_list.r",
     "varRefreshCmd": "cat(var_dic_list()) "
    }
   },
   "oldHeight": 122,
   "position": {
    "height": "40px",
    "left": "1170px",
    "right": "20px",
    "top": "120px",
    "width": "250px"
   },
   "types_to_exclude": [
    "module",
    "function",
    "builtin_function_or_method",
    "instance",
    "_Feature"
   ],
   "varInspector_section_display": "none",
   "window_display": true
  }
 },
 "nbformat": 4,
 "nbformat_minor": 2
}
